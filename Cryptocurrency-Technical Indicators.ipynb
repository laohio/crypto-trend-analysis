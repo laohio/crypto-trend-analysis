{
 "cells": [
  {
   "cell_type": "code",
   "execution_count": 139,
   "metadata": {},
   "outputs": [
    {
     "data": {
      "text/plain": [
       "'\\nTitle: Cryptocurrency - Technical Indicators\\nAuthor: Nicholas Ficeto\\nDescription: I made this Jupyter Notebook to learn more about popular technical indicators in the stock world, and\\nhow they can apply to cryptocurrencies.  This notebook was purely made for fun and learning purposes; whether \\ntechnical indicators like bollinger bands are actually useful applied to cryptocurrencies remains a subject of \\ndebate.\\n'"
      ]
     },
     "execution_count": 139,
     "metadata": {},
     "output_type": "execute_result"
    }
   ],
   "source": [
    "'''\n",
    "Title: Cryptocurrency - Technical Indicators\n",
    "Author: Nicholas Ficeto\n",
    "Description: I made this Jupyter Notebook to learn more about popular technical indicators in the stock world, and\n",
    "how they can apply to cryptocurrencies.  This notebook was purely made for fun and learning purposes; whether \n",
    "technical indicators like bollinger bands are actually useful applied to cryptocurrencies remains a subject of \n",
    "debate.  Currently, I've added bollinger bands, but I'd like to add other features/indicators (RSI, MACD).\n",
    "'''\n",
    "\n",
    "'''\n",
    "THINGS TO DO:\n",
    "-Add charts for altcoins\n",
    "-Add vertical lines when OHLC crosses a bollinger band\n",
    "'''"
   ]
  },
  {
   "cell_type": "code",
   "execution_count": 206,
   "metadata": {},
   "outputs": [
    {
     "data": {
      "text/html": [
       "<script>requirejs.config({paths: { 'plotly': ['https://cdn.plot.ly/plotly-latest.min']},});if(!window.Plotly) {{require(['plotly'],function(plotly) {window.Plotly=plotly;});}}</script>"
      ],
      "text/vnd.plotly.v1+html": [
       "<script>requirejs.config({paths: { 'plotly': ['https://cdn.plot.ly/plotly-latest.min']},});if(!window.Plotly) {{require(['plotly'],function(plotly) {window.Plotly=plotly;});}}</script>"
      ]
     },
     "metadata": {},
     "output_type": "display_data"
    }
   ],
   "source": [
    "import os\n",
    "import numpy as np\n",
    "import pandas as pd\n",
    "import pickle\n",
    "import quandl\n",
    "from datetime import datetime\n",
    "import plotly.offline as py\n",
    "import plotly.graph_objs as go\n",
    "import plotly.figure_factory as ff\n",
    "py.init_notebook_mode(connected=True)\n",
    "from shapely.geometry import LineString"
   ]
  },
  {
   "cell_type": "code",
   "execution_count": 129,
   "metadata": {},
   "outputs": [],
   "source": [
    "'''\n",
    "Get crypto data from Quandl.  Special \"quandl_code\" must be passed in (see Quandl website for formatting,\n",
    "e.g. BCHARTS/KRAKENUSD, where BCHARTS returns Bitcoin data from the Kraken exchange in USD).\n",
    "'''\n",
    "def get_quandl_data(quandl_code):\n",
    "    '''Create path name to which quandl data will be cached and pickled.'''\n",
    "    cache_path = '{}.pkl'.format(quandl_code + str(datetime.now().date())).replace('/','-')\n",
    "    '''First check if data for this Quandl code is already cached to avoid superfluous API calls.'''\n",
    "    try:\n",
    "        file = open(cache_path)\n",
    "        df = pickle.load(file)\n",
    "        print('Loaded cached file {}'.format(quandl_code))\n",
    "    except(OSError, IOError):\n",
    "        print('Downloading {} from Quandl'.format(quandl_code))\n",
    "        df = quandl.get(quandl_code, start_date='2018-01-01', returns=\"pandas\")\n",
    "        df.to_pickle(cache_path)\n",
    "        print('Cached {} in {}'.format(quandl_code, cache_path))\n",
    "    return df"
   ]
  },
  {
   "cell_type": "code",
   "execution_count": 130,
   "metadata": {},
   "outputs": [
    {
     "name": "stdout",
     "output_type": "stream",
     "text": [
      "Downloading BCHARTS/KRAKENUSD from Quandl\n",
      "Cached BCHARTS/KRAKENUSD in BCHARTS-KRAKENUSD2018-09-09.pkl\n"
     ]
    }
   ],
   "source": [
    "btc_prices_kraken = get_quandl_data('BCHARTS/KRAKENUSD')"
   ]
  },
  {
   "cell_type": "code",
   "execution_count": 131,
   "metadata": {},
   "outputs": [],
   "source": [
    "# Remove unwanted \"0\" values from dataframe\n",
    "btc_prices_kraken.replace(0, np.nan, inplace=True)"
   ]
  },
  {
   "cell_type": "code",
   "execution_count": 132,
   "metadata": {},
   "outputs": [],
   "source": [
    "'''\n",
    "Add OHLC column in-place, whose values will be used to make technical indicators.\n",
    "'''\n",
    "def add_ohlc(df):\n",
    "    df['OHLC'] = df[['Open','High','Low','Close']].mean(axis=1)"
   ]
  },
  {
   "cell_type": "code",
   "execution_count": 133,
   "metadata": {},
   "outputs": [],
   "source": [
    "add_ohlc(btc_prices_kraken)"
   ]
  },
  {
   "cell_type": "code",
   "execution_count": 134,
   "metadata": {},
   "outputs": [],
   "source": [
    "'''\n",
    "Pass in a reference to a dataframe to add columns containing data to make bollinger bands in-place (no return df).\n",
    "Dataframe must have an 'OHLC' column.\n",
    "Code source/inspiration: http://www.pythonforfinance.net/2017/07/31/bollinger-band-trading-strategy-backtest-in-python/\n",
    "'''\n",
    "def create_boll_bands(df):\n",
    "    #Set number of days and standard deviations to use for rolling lookback period for Bollinger band calculation\n",
    "    window = 21\n",
    "    no_of_std = 2\n",
    "\n",
    "    #Calculate rolling mean and standard deviation using number of days set above\n",
    "    rolling_mean = df['OHLC'].rolling(window).mean()\n",
    "    rolling_std = df['OHLC'].rolling(window).std()\n",
    "\n",
    "    #create two new DataFrame columns to hold values of upper and lower Bollinger bands\n",
    "    df['Rolling Mean'] = rolling_mean\n",
    "    df['Bollinger High'] = rolling_mean + (rolling_std * no_of_std)\n",
    "    df['Bollinger Low'] = rolling_mean - (rolling_std * no_of_std)"
   ]
  },
  {
   "cell_type": "code",
   "execution_count": 135,
   "metadata": {},
   "outputs": [],
   "source": [
    "'''\n",
    "Create bollinger bands for the BTC prices dataframe.\n",
    "'''\n",
    "create_boll_bands(btc_prices_kraken)"
   ]
  },
  {
   "cell_type": "code",
   "execution_count": 248,
   "metadata": {},
   "outputs": [],
   "source": [
    "'''\n",
    "Convert pandas series to a list of tuples containing coordinates for the given line (column).\n",
    "'''\n",
    "def series_to_coordinates(df, column):\n",
    "    coors = []\n",
    "    for i in range(len(df)):\n",
    "        x = btc_prices_kraken[column][i]\n",
    "        y = i\n",
    "        coors.append((x, y))\n",
    "    return coors\n",
    "'''\n",
    "Find where the crypto trend line intersects with bollinger bands, and return a list of these points.\n",
    "'''\n",
    "def find_intersections(df):\n",
    "    coors1 = series_to_coordinates(df, 'OHLC')\n",
    "    coors2 = series_to_coordinates(df, 'Bollinger High')\n",
    "    coors3 = series_to_coordinates(df, 'Bollinger Low')\n",
    "    '''Cut off first 20 points where there is no data for Bollinger Bands'''\n",
    "    coors1 = coors1[20:]\n",
    "    coors2 = coors2[20:]\n",
    "    coors3 = coors3[20:]\n",
    "    l1 = LineString(coors1)\n",
    "    l2 = LineString(coors2)\n",
    "    l3 = LineString(coors3)\n",
    "    intersection_high = l1.intersection(l2)\n",
    "    intersection_low = l1.intersection(l3)\n",
    "    inter_points_high = [list(p.coords)[0] for p in intersection_high]\n",
    "    inter_points_low = [list(p.coords)[0] for p in intersection_low]\n",
    "    return inter_points_high + inter_points_low\n",
    "intersections = find_intersections(btc_prices_kraken)"
   ]
  },
  {
   "cell_type": "code",
   "execution_count": 275,
   "metadata": {},
   "outputs": [],
   "source": [
    "intersections_trace = go.Scatter(\n",
    "    x = [btc_prices_kraken.index[round(pair[1])] for pair in intersections],\n",
    "    y = [pair[0] for pair in intersections],\n",
    "    mode = 'markers',\n",
    "    name = \"Bollinger Intersections\"\n",
    ")"
   ]
  },
  {
   "cell_type": "code",
   "execution_count": 11,
   "metadata": {},
   "outputs": [
    {
     "ename": "NameError",
     "evalue": "name 'btc_prices_kraken' is not defined",
     "output_type": "error",
     "traceback": [
      "\u001b[0;31m---------------------------------------------------------------------------\u001b[0m",
      "\u001b[0;31mNameError\u001b[0m                                 Traceback (most recent call last)",
      "\u001b[0;32m<ipython-input-11-9e950c05f9e5>\u001b[0m in \u001b[0;36m<module>\u001b[0;34m()\u001b[0m\n\u001b[1;32m      1\u001b[0m \u001b[0;31m# Chart the BTC pricing data\u001b[0m\u001b[0;34m\u001b[0m\u001b[0;34m\u001b[0m\u001b[0m\n\u001b[0;32m----> 2\u001b[0;31m \u001b[0mbtc_trace\u001b[0m \u001b[0;34m=\u001b[0m \u001b[0mgo\u001b[0m\u001b[0;34m.\u001b[0m\u001b[0mScatter\u001b[0m\u001b[0;34m(\u001b[0m\u001b[0mx\u001b[0m\u001b[0;34m=\u001b[0m\u001b[0mbtc_prices_kraken\u001b[0m\u001b[0;34m.\u001b[0m\u001b[0mindex\u001b[0m\u001b[0;34m,\u001b[0m \u001b[0my\u001b[0m\u001b[0;34m=\u001b[0m\u001b[0mbtc_prices_kraken\u001b[0m\u001b[0;34m[\u001b[0m\u001b[0;34m'OHLC'\u001b[0m\u001b[0;34m]\u001b[0m\u001b[0;34m,\u001b[0m \u001b[0mname\u001b[0m\u001b[0;34m=\u001b[0m\u001b[0;34m'OHLC'\u001b[0m\u001b[0;34m)\u001b[0m\u001b[0;34m\u001b[0m\u001b[0m\n\u001b[0m\u001b[1;32m      3\u001b[0m \u001b[0mboll_high_trace\u001b[0m \u001b[0;34m=\u001b[0m \u001b[0mgo\u001b[0m\u001b[0;34m.\u001b[0m\u001b[0mScatter\u001b[0m\u001b[0;34m(\u001b[0m\u001b[0mx\u001b[0m\u001b[0;34m=\u001b[0m\u001b[0mbtc_prices_kraken\u001b[0m\u001b[0;34m.\u001b[0m\u001b[0mindex\u001b[0m\u001b[0;34m,\u001b[0m \u001b[0my\u001b[0m\u001b[0;34m=\u001b[0m\u001b[0mbtc_prices_kraken\u001b[0m\u001b[0;34m[\u001b[0m\u001b[0;34m'Bollinger High'\u001b[0m\u001b[0;34m]\u001b[0m\u001b[0;34m,\u001b[0m \u001b[0mname\u001b[0m\u001b[0;34m=\u001b[0m\u001b[0;34m'Bollinger High'\u001b[0m\u001b[0;34m)\u001b[0m\u001b[0;34m\u001b[0m\u001b[0m\n\u001b[1;32m      4\u001b[0m \u001b[0mboll_low_trace\u001b[0m \u001b[0;34m=\u001b[0m \u001b[0mgo\u001b[0m\u001b[0;34m.\u001b[0m\u001b[0mScatter\u001b[0m\u001b[0;34m(\u001b[0m\u001b[0mx\u001b[0m\u001b[0;34m=\u001b[0m\u001b[0mbtc_prices_kraken\u001b[0m\u001b[0;34m.\u001b[0m\u001b[0mindex\u001b[0m\u001b[0;34m,\u001b[0m \u001b[0my\u001b[0m\u001b[0;34m=\u001b[0m\u001b[0mbtc_prices_kraken\u001b[0m\u001b[0;34m[\u001b[0m\u001b[0;34m'Bollinger Low'\u001b[0m\u001b[0;34m]\u001b[0m\u001b[0;34m,\u001b[0m \u001b[0mname\u001b[0m\u001b[0;34m=\u001b[0m\u001b[0;34m'Bollinger Low'\u001b[0m\u001b[0;34m)\u001b[0m\u001b[0;34m\u001b[0m\u001b[0m\n\u001b[1;32m      5\u001b[0m \u001b[0mlayout\u001b[0m \u001b[0;34m=\u001b[0m \u001b[0mdict\u001b[0m\u001b[0;34m(\u001b[0m\u001b[0mtitle\u001b[0m \u001b[0;34m=\u001b[0m \u001b[0;34m'BTC Prices (Kraken Exchange)'\u001b[0m\u001b[0;34m,\u001b[0m \u001b[0mxaxis\u001b[0m\u001b[0;34m=\u001b[0m\u001b[0mdict\u001b[0m\u001b[0;34m(\u001b[0m\u001b[0mtitle\u001b[0m\u001b[0;34m=\u001b[0m\u001b[0;34m'Date'\u001b[0m\u001b[0;34m)\u001b[0m\u001b[0;34m,\u001b[0m \u001b[0myaxis\u001b[0m\u001b[0;34m=\u001b[0m\u001b[0mdict\u001b[0m\u001b[0;34m(\u001b[0m\u001b[0mtitle\u001b[0m\u001b[0;34m=\u001b[0m\u001b[0;34m'Price (USD)'\u001b[0m\u001b[0;34m)\u001b[0m\u001b[0;34m)\u001b[0m\u001b[0;34m\u001b[0m\u001b[0m\n",
      "\u001b[0;31mNameError\u001b[0m: name 'btc_prices_kraken' is not defined"
     ]
    }
   ],
   "source": [
    "# Chart the BTC pricing data\n",
    "btc_trace = go.Scatter(x=btc_prices_kraken.index, y=btc_prices_kraken['OHLC'], name='OHLC')\n",
    "boll_high_trace = go.Scatter(x=btc_prices_kraken.index, y=btc_prices_kraken['Bollinger High'], name='Bollinger High')\n",
    "boll_low_trace = go.Scatter(x=btc_prices_kraken.index, y=btc_prices_kraken['Bollinger Low'], name='Bollinger Low')\n",
    "layout = dict(title = 'BTC Prices (Kraken Exchange)', xaxis=dict(title='Date'), yaxis=dict(title='Price (USD)'))\n",
    "fig = dict(data=[btc_trace, boll_high_trace, boll_low_trace, intersections], layout=layout)\n",
    "py.iplot(fig)"
   ]
  },
  {
   "cell_type": "code",
   "execution_count": null,
   "metadata": {},
   "outputs": [],
   "source": []
  }
 ],
 "metadata": {
  "kernelspec": {
   "display_name": "Python [conda env:cryptocurrency-analysis]",
   "language": "python",
   "name": "conda-env-cryptocurrency-analysis-py"
  },
  "language_info": {
   "codemirror_mode": {
    "name": "ipython",
    "version": 3
   },
   "file_extension": ".py",
   "mimetype": "text/x-python",
   "name": "python",
   "nbconvert_exporter": "python",
   "pygments_lexer": "ipython3",
   "version": "3.7.0"
  }
 },
 "nbformat": 4,
 "nbformat_minor": 2
}
